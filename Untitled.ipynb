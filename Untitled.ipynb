{
 "cells": [
  {
   "cell_type": "code",
   "execution_count": 5,
   "metadata": {},
   "outputs": [
    {
     "name": "stderr",
     "output_type": "stream",
     "text": [
      "/Users/chloemayne/anaconda3/envs/PythonData/lib/python3.6/site-packages/sklearn/linear_model/stochastic_gradient.py:128: FutureWarning: max_iter and tol parameters have been added in <class 'sklearn.linear_model.stochastic_gradient.SGDClassifier'> in 0.19. If both are left unset, they default to max_iter=5 and tol=None. If tol is not None, max_iter defaults to max_iter=1000. From 0.21, default max_iter will be 1000, and default tol will be 1e-3.\n",
      "  \"and default tol will be 1e-3.\" % type(self), FutureWarning)\n"
     ]
    },
    {
     "data": {
      "text/plain": [
       "array(['Other'], dtype='<U7')"
      ]
     },
     "execution_count": 5,
     "metadata": {},
     "output_type": "execute_result"
    }
   ],
   "source": [
    "import pandas as pd\n",
    "import numpy as np\n",
    "\n",
    "import pickle\n",
    "\n",
    "from nltk import word_tokenize\n",
    "from nltk.stem import WordNetLemmatizer\n",
    "from nltk.corpus import stopwords\n",
    "\n",
    "from sklearn.metrics import precision_recall_fscore_support, confusion_matrix\n",
    "from sklearn.naive_bayes import MultinomialNB\n",
    "from sklearn.pipeline import Pipeline\n",
    "from sklearn.model_selection import train_test_split\n",
    "from sklearn.feature_extraction.text import TfidfVectorizer, CountVectorizer\n",
    "#from sklearn.featead in the CSV\n",
    "\n",
    "\n",
    "df = pd.read_csv('lyrics_2010.csv')\n",
    "\n",
    "#Identify all of the different genres\n",
    "df['genre'].unique()\n",
    "\n",
    "#make a new column with the genre either being Hip-Hop or Other\n",
    "#Combine all genres that aren't Hip-hop into Other\n",
    "df['genre_combine'] = np.where(\n",
    "    (df['genre'] == 'Rock')|\n",
    "    (df['genre'] == 'Jazz')|\n",
    "    (df['genre'] == 'Pop')|\n",
    "    (df['genre'] == 'Metal')|\n",
    "    (df['genre'] == 'Indie')|\n",
    "    (df['genre'] == 'Country')|\n",
    "    (df['genre'] == 'R&B')|\n",
    "    (df['genre'] == 'Electronic')|\n",
    "    (df['genre'] == 'Folk')|\n",
    "    (df['genre'] == 'Not Available'), \n",
    "    'Other', \n",
    "    df['genre']\n",
    ")\n",
    "\n",
    "#Split the data into a test set and a train set\n",
    "train_df, test_df = train_test_split(df)\n",
    "\n",
    "#Using Multinomial Naive Bayes because it's a good method for text classification\n",
    "text_clf = Pipeline(\n",
    "    [('vect', TfidfVectorizer()),\n",
    "     ('clf', MultinomialNB(alpha=0.1))])\n",
    "\n",
    "# train the model\n",
    "text_clf.fit(train_df.lyrics, train_df.genre_combine)  \n",
    "\n",
    "# score the model\n",
    "predicted = text_clf.predict(test_df.lyrics)\n",
    "\n",
    "#this is the accuracy of the model\n",
    "np.mean(predicted == test_df.genre_combine)\n",
    "\n",
    "#Using Linear Support Vector Machines (SVM) as it's regarded as one of the best text classifier algorithms\n",
    "from sklearn.linear_model import SGDClassifier\n",
    "text_clf = Pipeline(\n",
    "    [('vect', TfidfVectorizer()),\n",
    "     ('clf', SGDClassifier()),\n",
    "    ])\n",
    "\n",
    "\n",
    "# train the model\n",
    "text_clf.fit(train_df.lyrics, train_df.genre_combine)  \n",
    "\n",
    "# score the model\n",
    "predicted = text_clf.predict(test_df.lyrics)\n",
    "\n",
    "\n",
    "# Saving model to disk\n",
    "pickle.dump(text_clf, open('model.pkl','wb'))\n",
    "\n",
    "# Loading model to compare the results\n",
    "#model = pickle.load(open('model.pkl','rb'))\n",
    "#print(model.predict([\"Ball so Hard Mutherfuckers wanna find me\"]))\n"
   ]
  },
  {
   "cell_type": "code",
   "execution_count": 13,
   "metadata": {},
   "outputs": [
    {
     "name": "stdout",
     "output_type": "stream",
     "text": [
      "['Hip-Hop']\n"
     ]
    }
   ],
   "source": [
    "def lyric_predict(input):\n",
    "\n",
    "    # Loading model to compare the results\n",
    "    model = pickle.load(open('model.pkl','rb'))\n",
    "    output = model.predict(input)\n",
    "\n",
    "    #this is the accuracy of the model\n",
    "    #np.mean(predicted == test_df.genre_combine)\n",
    "    \n",
    "    print_output = print(output)\n",
    "        \n",
    "    return print_output\n",
    "\n",
    "lyric = [\"fuck\"]\n",
    "\n",
    "lyric_predict(lyric)"
   ]
  },
  {
   "cell_type": "code",
   "execution_count": null,
   "metadata": {},
   "outputs": [],
   "source": []
  }
 ],
 "metadata": {
  "kernelspec": {
   "display_name": "Python [conda env:PythonData]",
   "language": "python",
   "name": "conda-env-PythonData-py"
  },
  "language_info": {
   "codemirror_mode": {
    "name": "ipython",
    "version": 3
   },
   "file_extension": ".py",
   "mimetype": "text/x-python",
   "name": "python",
   "nbconvert_exporter": "python",
   "pygments_lexer": "ipython3",
   "version": "3.6.5"
  }
 },
 "nbformat": 4,
 "nbformat_minor": 2
}
