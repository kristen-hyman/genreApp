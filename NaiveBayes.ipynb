{
 "cells": [
  {
   "cell_type": "code",
   "execution_count": 21,
   "metadata": {},
   "outputs": [],
   "source": [
    "import pandas as pd\n",
    "import numpy as np\n",
    "\n",
    "from nltk import word_tokenize\n",
    "from nltk.stem import WordNetLemmatizer\n",
    "from nltk.corpus import stopwords\n",
    "\n",
    "from sklearn.metrics import precision_recall_fscore_support, confusion_matrix\n",
    "from sklearn.naive_bayes import MultinomialNB\n",
    "from sklearn.pipeline import Pipeline\n",
    "from sklearn.feature_extraction.text import TfidfVectorizer, CountVectorizer\n",
    "from sklearn.model_selection import train_test_split\n",
    "\n",
    "import seaborn as sns\n",
    "import matplotlib.pyplot as plt"
   ]
  },
  {
   "cell_type": "code",
   "execution_count": 2,
   "metadata": {},
   "outputs": [],
   "source": [
    "#Read in the CSV\n",
    "df = pd.read_csv('lyrics_2010.csv')"
   ]
  },
  {
   "cell_type": "code",
   "execution_count": 3,
   "metadata": {},
   "outputs": [
    {
     "data": {
      "text/plain": [
       "array(['Pop', 'Rock', 'Folk', 'Not Available', 'Hip-Hop', 'Electronic',\n",
       "       'Jazz', 'Other', 'Metal', 'Country', 'Indie', 'R&B'], dtype=object)"
      ]
     },
     "execution_count": 3,
     "metadata": {},
     "output_type": "execute_result"
    }
   ],
   "source": [
    "#Identify all of the different genres\n",
    "df['genre'].unique()"
   ]
  },
  {
   "cell_type": "code",
   "execution_count": 46,
   "metadata": {},
   "outputs": [],
   "source": [
    "#make a new column with the genre either being Hip-Hop or Other\n",
    "#Combine all genres that aren't Hip-hop into Other\n",
    "df['genre_combine'] = np.where(\n",
    "    (df['genre'] == 'Jazz')|\n",
    "    (df['genre'] == 'Indie')|\n",
    "    (df['genre'] == 'R&B')|\n",
    "    (df['genre'] == 'Folk')|\n",
    "    (df['genre'] == 'Rock')|\n",
    "    (df['genre'] == 'Electronic')|\n",
    "    (df['genre'] == 'Metal')|\n",
    "    (df['genre'] == 'Pop')|\n",
    "    (df['genre'] == 'Not Available'), \n",
    "    'Other', \n",
    "    df['genre']\n",
    "    )"
   ]
  },
  {
   "cell_type": "code",
   "execution_count": 41,
   "metadata": {},
   "outputs": [
    {
     "data": {
      "text/plain": [
       "array(['Pop', 'Other', 'Hip-Hop', 'Country'], dtype=object)"
      ]
     },
     "execution_count": 41,
     "metadata": {},
     "output_type": "execute_result"
    }
   ],
   "source": [
    "df['genre_combine'].unique()"
   ]
  },
  {
   "cell_type": "code",
   "execution_count": 6,
   "metadata": {},
   "outputs": [
    {
     "data": {
      "text/html": [
       "<div>\n",
       "<style scoped>\n",
       "    .dataframe tbody tr th:only-of-type {\n",
       "        vertical-align: middle;\n",
       "    }\n",
       "\n",
       "    .dataframe tbody tr th {\n",
       "        vertical-align: top;\n",
       "    }\n",
       "\n",
       "    .dataframe thead th {\n",
       "        text-align: right;\n",
       "    }\n",
       "</style>\n",
       "<table border=\"1\" class=\"dataframe\">\n",
       "  <thead>\n",
       "    <tr style=\"text-align: right;\">\n",
       "      <th></th>\n",
       "      <th>Unnamed: 0</th>\n",
       "      <th>index</th>\n",
       "      <th>song</th>\n",
       "      <th>year</th>\n",
       "      <th>artist</th>\n",
       "      <th>genre</th>\n",
       "      <th>lyrics</th>\n",
       "      <th>genre_combine</th>\n",
       "    </tr>\n",
       "  </thead>\n",
       "  <tbody>\n",
       "    <tr>\n",
       "      <th>0</th>\n",
       "      <td>197321</td>\n",
       "      <td>197321</td>\n",
       "      <td>love-will-come-back-again</td>\n",
       "      <td>2016</td>\n",
       "      <td>chaz-robinson</td>\n",
       "      <td>Pop</td>\n",
       "      <td>Verse  The price of your soul is the final goa...</td>\n",
       "      <td>Pop</td>\n",
       "    </tr>\n",
       "    <tr>\n",
       "      <th>1</th>\n",
       "      <td>245368</td>\n",
       "      <td>245368</td>\n",
       "      <td>paralyzed</td>\n",
       "      <td>2016</td>\n",
       "      <td>failure-anthem</td>\n",
       "      <td>Rock</td>\n",
       "      <td>Floating away, drift into a distance watching ...</td>\n",
       "      <td>Rock</td>\n",
       "    </tr>\n",
       "    <tr>\n",
       "      <th>2</th>\n",
       "      <td>139503</td>\n",
       "      <td>139503</td>\n",
       "      <td>clearly</td>\n",
       "      <td>2016</td>\n",
       "      <td>cilia</td>\n",
       "      <td>Pop</td>\n",
       "      <td>Now i'm done following your lead to try to wal...</td>\n",
       "      <td>Pop</td>\n",
       "    </tr>\n",
       "    <tr>\n",
       "      <th>3</th>\n",
       "      <td>298974</td>\n",
       "      <td>298974</td>\n",
       "      <td>gotta-let-go</td>\n",
       "      <td>2016</td>\n",
       "      <td>earl</td>\n",
       "      <td>Folk</td>\n",
       "      <td>I let a song go out of my heart It was the swe...</td>\n",
       "      <td>Other</td>\n",
       "    </tr>\n",
       "    <tr>\n",
       "      <th>4</th>\n",
       "      <td>131589</td>\n",
       "      <td>131589</td>\n",
       "      <td>guns-of-umpqua</td>\n",
       "      <td>2016</td>\n",
       "      <td>drive-by-truckers</td>\n",
       "      <td>Rock</td>\n",
       "      <td>I see a bird soar through the clouds outside m...</td>\n",
       "      <td>Rock</td>\n",
       "    </tr>\n",
       "  </tbody>\n",
       "</table>\n",
       "</div>"
      ],
      "text/plain": [
       "   Unnamed: 0   index                       song  year             artist  \\\n",
       "0      197321  197321  love-will-come-back-again  2016      chaz-robinson   \n",
       "1      245368  245368                  paralyzed  2016     failure-anthem   \n",
       "2      139503  139503                    clearly  2016              cilia   \n",
       "3      298974  298974               gotta-let-go  2016               earl   \n",
       "4      131589  131589             guns-of-umpqua  2016  drive-by-truckers   \n",
       "\n",
       "  genre                                             lyrics genre_combine  \n",
       "0   Pop  Verse  The price of your soul is the final goa...           Pop  \n",
       "1  Rock  Floating away, drift into a distance watching ...          Rock  \n",
       "2   Pop  Now i'm done following your lead to try to wal...           Pop  \n",
       "3  Folk  I let a song go out of my heart It was the swe...         Other  \n",
       "4  Rock  I see a bird soar through the clouds outside m...          Rock  "
      ]
     },
     "execution_count": 6,
     "metadata": {},
     "output_type": "execute_result"
    }
   ],
   "source": [
    "df.head()"
   ]
  },
  {
   "cell_type": "code",
   "execution_count": 50,
   "metadata": {},
   "outputs": [
    {
     "data": {
      "text/plain": [
       "array(['Other', 'Hip-Hop', 'Country'], dtype=object)"
      ]
     },
     "execution_count": 50,
     "metadata": {},
     "output_type": "execute_result"
    }
   ],
   "source": [
    "#Verify that the genres are either Hip-Hop or Other\n",
    "df['genre_combine'].unique()"
   ]
  },
  {
   "cell_type": "code",
   "execution_count": 47,
   "metadata": {},
   "outputs": [],
   "source": [
    "#Split the data into a test set and a train set\n",
    "train_df, test_df = train_test_split(df)"
   ]
  },
  {
   "cell_type": "code",
   "execution_count": 48,
   "metadata": {},
   "outputs": [
    {
     "data": {
      "text/plain": [
       "0.8337070480576935"
      ]
     },
     "execution_count": 48,
     "metadata": {},
     "output_type": "execute_result"
    }
   ],
   "source": [
    "#Using Multinomial Naive Bayes because it's a good method for text classification\n",
    "text_clf = Pipeline(\n",
    "        [('vect', TfidfVectorizer()),\n",
    "         ('clf', MultinomialNB()),\n",
    "        ])\n",
    "\n",
    "# train the model\n",
    "text_clf.fit(train_df.lyrics, train_df.genre_combine)  \n",
    "\n",
    "# score the model\n",
    "predicted = text_clf.predict(test_df.lyrics)\n",
    "\n",
    "#this is the accuracy of the model\n",
    "np.mean(predicted == test_df.genre_combine)"
   ]
  },
  {
   "cell_type": "code",
   "execution_count": 49,
   "metadata": {},
   "outputs": [
    {
     "name": "stderr",
     "output_type": "stream",
     "text": [
      "C:\\Users\\kylel\\Anaconda3\\envs\\py36\\lib\\site-packages\\sklearn\\linear_model\\stochastic_gradient.py:166: FutureWarning: max_iter and tol parameters have been added in SGDClassifier in 0.19. If both are left unset, they default to max_iter=5 and tol=None. If tol is not None, max_iter defaults to max_iter=1000. From 0.21, default max_iter will be 1000, and default tol will be 1e-3.\n",
      "  FutureWarning)\n"
     ]
    },
    {
     "data": {
      "text/plain": [
       "0.8842494394279135"
      ]
     },
     "execution_count": 49,
     "metadata": {},
     "output_type": "execute_result"
    }
   ],
   "source": [
    "#Using Linear Support Vector Machines (SVM) as it's regarded as one of the best text classifier algorithms\n",
    "from sklearn.linear_model import SGDClassifier\n",
    "text_clf = Pipeline(\n",
    "    [('vect', TfidfVectorizer()),\n",
    "        ('clf', SGDClassifier()),\n",
    "    ])\n",
    "\n",
    "\n",
    "# train the model\n",
    "text_clf.fit(train_df.lyrics, train_df.genre_combine)  \n",
    "\n",
    "# score the model\n",
    "predicted = text_clf.predict(test_df.lyrics)\n",
    "\n",
    "np.mean(predicted == test_df.genre_combine)"
   ]
  },
  {
   "cell_type": "code",
   "execution_count": 53,
   "metadata": {},
   "outputs": [],
   "source": [
    "genres = ['Other', 'Hip-Hop', 'Country']"
   ]
  },
  {
   "cell_type": "code",
   "execution_count": 58,
   "metadata": {},
   "outputs": [
    {
     "data": {
      "text/plain": [
       "(49503, 8)"
      ]
     },
     "execution_count": 58,
     "metadata": {},
     "output_type": "execute_result"
    }
   ],
   "source": [
    "train_df.shape"
   ]
  },
  {
   "cell_type": "code",
   "execution_count": 52,
   "metadata": {},
   "outputs": [
    {
     "data": {
      "image/png": "[encoded data removed]",
      "text/plain": [
       "<Figure size 432x288 with 1 Axes>"
      ]
     },
     "metadata": {
      "needs_background": "light"
     },
     "output_type": "display_data"
    }
   ],
   "source": [
    "mat = confusion_matrix(test_df.genre_combine, predicted)\n",
    "sns.heatmap(\n",
    "    mat.T, square=True, annot=True, fmt='d', cbar=False,\n",
    "    xticklabels=genres, \n",
    "    yticklabels=genres\n",
    ")\n",
    "plt.xlabel('true label')\n",
    "plt.ylabel('predicted label');"
   ]
  },
  {
   "cell_type": "code",
   "execution_count": 12,
   "metadata": {},
   "outputs": [
    {
     "name": "stdout",
     "output_type": "stream",
     "text": [
      "HIP HOP_precision: 0.0\n",
      "HIP HOP_recall: 0.0\n",
      "HIP HOP_fscore: 0.0\n",
      "HIP HOP_support: 586\n",
      "\n",
      "OTHER_precision: 0.0\n",
      "OTHER_recall: 0.0\n",
      "OTHER_fscore: 0.0\n",
      "OTHER_support: 716\n",
      "\n"
     ]
    },
    {
     "name": "stderr",
     "output_type": "stream",
     "text": [
      "C:\\Users\\kylel\\Anaconda3\\envs\\py36\\lib\\site-packages\\sklearn\\metrics\\classification.py:1143: UndefinedMetricWarning: Precision and F-score are ill-defined and being set to 0.0 in labels with no predicted samples.\n",
      "  'precision', 'predicted', average, warn_for)\n"
     ]
    }
   ],
   "source": [
    "precision, recall, fscore, support = precision_recall_fscore_support(test_df.genre_combine, predicted)\n",
    "\n",
    "for n,genre in enumerate(genres):\n",
    "    genre = genre.upper()\n",
    "    print(genre+'_precision: {}'.format(precision[n]))\n",
    "    print(genre+'_recall: {}'.format(recall[n]))\n",
    "    print(genre+'_fscore: {}'.format(fscore[n]))\n",
    "    print(genre+'_support: {}'.format(support[n]))\n",
    "    print()"
   ]
  },
  {
   "cell_type": "code",
   "execution_count": 13,
   "metadata": {},
   "outputs": [
    {
     "data": {
      "text/plain": [
       "array(['Other', 'Hip-Hop', 'Rock', 'Rock', 'Hip-Hop', 'Hip-Hop'],\n",
       "      dtype='<U10')"
      ]
     },
     "execution_count": 13,
     "metadata": {},
     "output_type": "execute_result"
    }
   ],
   "source": [
    "docs_new = [\n",
    "        \"ball so hard mutherfuckers wanna find me\",\n",
    "        \"gangsta, nigga, drug, gun, shoot\",\n",
    "        \"Friday friday, everyone gets down on Friday\",\n",
    "        \"Real G's move in silence like lasagna\",\n",
    "        \"baddest bitch in all the land\",\n",
    "        \"poppin bottles ciroc all day\"\n",
    "        ]\n",
    "\n",
    "predicted = text_clf.predict(docs_new)\n",
    "predicted"
   ]
  }
 ],
 "metadata": {
  "kernelspec": {
   "display_name": "Python (py36)",
   "language": "python",
   "name": "py36"
  },
  "language_info": {
   "codemirror_mode": {
    "name": "ipython",
    "version": 3
   },
   "file_extension": ".py",
   "mimetype": "text/x-python",
   "name": "python",
   "nbconvert_exporter": "python",
   "pygments_lexer": "ipython3",
   "version": "3.6.7"
  }
 },
 "nbformat": 4,
 "nbformat_minor": 2
}
